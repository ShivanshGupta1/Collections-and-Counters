{
  "nbformat": 4,
  "nbformat_minor": 0,
  "metadata": {
    "colab": {
      "name": "Collections and Counters (GitHub).ipynb",
      "provenance": [],
      "collapsed_sections": [],
      "authorship_tag": "ABX9TyOcZhITWLRr+ArSQoCXQbg5",
      "include_colab_link": true
    },
    "kernelspec": {
      "name": "python3",
      "display_name": "Python 3"
    }
  },
  "cells": [
    {
      "cell_type": "markdown",
      "metadata": {
        "id": "view-in-github",
        "colab_type": "text"
      },
      "source": [
        "<a href=\"https://colab.research.google.com/github/ShivanshGupta1/Collections-and-Counters/blob/main/Collections_and_Counters_(GitHub).ipynb\" target=\"_parent\"><img src=\"https://colab.research.google.com/assets/colab-badge.svg\" alt=\"Open In Colab\"/></a>"
      ]
    },
    {
      "cell_type": "code",
      "metadata": {
        "colab": {
          "base_uri": "https://localhost:8080/"
        },
        "id": "258KUrvn05lQ",
        "outputId": "c5c5a5bb-a139-4f91-94f0-b9e9a78f5b9f"
      },
      "source": [
        "#Counter Creation\n",
        "from collections import Counter#Importing it from collections library\n",
        "myList = [1,1,2,2,2,3,3,4,4,4,4,5]#Creating a list\n",
        "myCounter = Counter(myList)#using the counter constructor creater a counter\n",
        "print(myCounter)#Printing it\n",
        "#Counter is a container of data structures, like a data structure of data structures"
      ],
      "execution_count": null,
      "outputs": [
        {
          "output_type": "stream",
          "text": [
            "Counter({4: 4, 2: 3, 1: 2, 3: 2, 5: 1})\n"
          ],
          "name": "stdout"
        }
      ]
    },
    {
      "cell_type": "code",
      "metadata": {
        "colab": {
          "base_uri": "https://localhost:8080/"
        },
        "id": "dmtY3vIo2XDs",
        "outputId": "c55825fa-e453-464e-93ae-09b8211c310a"
      },
      "source": [
        "#Counter Creation Way 2\n",
        "from collections import Counter#Importing it from collections library\n",
        "myList = [1,1,2,2,2,3,3,4,4,4,4,5]#Creating a list\n",
        "myCounter = Counter()#using the counter constructor creater a counter\n",
        "for i in myList:\n",
        "  myCounter[i] = myCounter[i] + 1\n",
        "print(myCounter)"
      ],
      "execution_count": null,
      "outputs": [
        {
          "output_type": "stream",
          "text": [
            "Counter({4: 4, 2: 3, 1: 2, 3: 2, 5: 1})\n"
          ],
          "name": "stdout"
        }
      ]
    },
    {
      "cell_type": "code",
      "metadata": {
        "colab": {
          "base_uri": "https://localhost:8080/"
        },
        "id": "4RW6ex2j2p4H",
        "outputId": "ff522d0f-88cc-4319-f9b6-ec7b95431a6b"
      },
      "source": [
        "from collections import Counter #Importing it from collections library\n",
        "mySong = \"she loves you yeah yeah yeah she loves you yeah yeah yeah she loves you yeah yeah yeah you think you’ve lost your love well i saw her yesterday-yi-yay it’s you she’s thinking of and she told me what to say-yi-yay\"\n",
        "#Above is the variable with the song\n",
        "mySong = mySong.split() #We split it into a list\n",
        "myCounter = Counter()#Using the counter constructor\n",
        "for i in mySong:#We use this for loop to add the repetition of each elemnt in the dictionary\n",
        "  myCounter[i]+=1\n",
        "print(myCounter)"
      ],
      "execution_count": null,
      "outputs": [
        {
          "output_type": "stream",
          "text": [
            "Counter({'yeah': 9, 'you': 5, 'she': 4, 'loves': 3, 'think': 1, 'you’ve': 1, 'lost': 1, 'your': 1, 'love': 1, 'well': 1, 'i': 1, 'saw': 1, 'her': 1, 'yesterday-yi-yay': 1, 'it’s': 1, 'she’s': 1, 'thinking': 1, 'of': 1, 'and': 1, 'told': 1, 'me': 1, 'what': 1, 'to': 1, 'say-yi-yay': 1})\n"
          ],
          "name": "stdout"
        }
      ]
    },
    {
      "cell_type": "code",
      "metadata": {
        "colab": {
          "base_uri": "https://localhost:8080/"
        },
        "id": "9KO6Jphf4wRD",
        "outputId": "a5d7d679-099a-4c6a-8983-f7750698a219"
      },
      "source": [
        "#Intial Values and Keys\n",
        "from collections import Counter #Importing it from collections library\n",
        "myCounter = Counter(cats=4,dogs=5)#Using the counter constructor with \"Intial Values and Keys\"\n",
        "print(myCounter)"
      ],
      "execution_count": null,
      "outputs": [
        {
          "output_type": "stream",
          "text": [
            "Counter({'dogs': 5, 'cats': 4})\n"
          ],
          "name": "stdout"
        }
      ]
    },
    {
      "cell_type": "code",
      "metadata": {
        "colab": {
          "base_uri": "https://localhost:8080/"
        },
        "id": "z-ryorJ75Ku_",
        "outputId": "9fd59581-285f-4ed4-8ca1-889e85d8c6ae"
      },
      "source": [
        "#Adding in the counter\n",
        "from collections import Counter #Importing it from collections library\n",
        "myCounter = Counter(cats=4,dogs=5)#Using the counter constructor with \"Intial Values and Keys\"\n",
        "myCounter[\"hamsters\"]=3\n",
        "print(myCounter)"
      ],
      "execution_count": null,
      "outputs": [
        {
          "output_type": "stream",
          "text": [
            "Counter({'dogs': 5, 'cats': 4, 'hamsters': 3})\n"
          ],
          "name": "stdout"
        }
      ]
    },
    {
      "cell_type": "code",
      "metadata": {
        "colab": {
          "base_uri": "https://localhost:8080/"
        },
        "id": "jyoSmUDh5Xbn",
        "outputId": "9247dfd0-2c0c-420a-e9a3-231145c85d06"
      },
      "source": [
        "#Deleting in the counter\n",
        "from collections import Counter #Importing it from collections library\n",
        "myCounter = Counter(cats=4,dogs=5)#Using the counter constructor with \"Intial Values and Keys\"\n",
        "del myCounter[\"hamsters\"]\n",
        "print(myCounter)"
      ],
      "execution_count": null,
      "outputs": [
        {
          "output_type": "stream",
          "text": [
            "Counter({'dogs': 5, 'cats': 4})\n"
          ],
          "name": "stdout"
        }
      ]
    },
    {
      "cell_type": "code",
      "metadata": {
        "colab": {
          "base_uri": "https://localhost:8080/"
        },
        "id": "WkyHJQ8N58w5",
        "outputId": "3bbf84f0-3357-4944-a4d6-d42a214915a5"
      },
      "source": [
        "#Most Common\n",
        "from collections import Counter #Importing it from collections library\n",
        "myCounter = Counter(cats=4,dogs=5, hamsters=6)#Using the counter constructor with \"Intial Values and Keys\"\n",
        "print(myCounter.most_common())#All, from most to least\n",
        "print(myCounter.most_common(2))#The 2 most common"
      ],
      "execution_count": null,
      "outputs": [
        {
          "output_type": "stream",
          "text": [
            "[('hamsters', 6), ('dogs', 5), ('cats', 4)]\n",
            "[('hamsters', 6), ('dogs', 5)]\n"
          ],
          "name": "stdout"
        }
      ]
    },
    {
      "cell_type": "code",
      "metadata": {
        "colab": {
          "base_uri": "https://localhost:8080/"
        },
        "id": "w1_FSEPs6g0f",
        "outputId": "cbd9b5d3-eae6-4d37-a2ee-3552e7e38c1b"
      },
      "source": [
        "#Update with counter (It adds)\n",
        "from collections import Counter #Importing it from collections library\n",
        "myCounter = Counter(cats=4,dogs=5, hamsters=6)#Using the counter constructor with \"Intial Values and Keys\"\n",
        "myCounter.update({\"cats\":6,\"dogs\":2,\"rabbits\":3})\n",
        "print(myCounter)"
      ],
      "execution_count": null,
      "outputs": [
        {
          "output_type": "stream",
          "text": [
            "Counter({'cats': 10, 'dogs': 7, 'hamsters': 6, 'rabbits': 3})\n"
          ],
          "name": "stdout"
        }
      ]
    },
    {
      "cell_type": "code",
      "metadata": {
        "colab": {
          "base_uri": "https://localhost:8080/"
        },
        "id": "tjxfUUWk6-mt",
        "outputId": "4d4804a0-a51d-4f9c-b616-59a835fdb4c1"
      },
      "source": [
        "#Update witn strings\n",
        "from collections import Counter #Importing it from collections library\n",
        "myCounter = Counter(cats=\"ca\",dogs=\"do\", hamsters=\"hamste\")#Using the counter\\ constructor with \"Intial Values and Keys\"\n",
        "myCounter.update({\"cats\":\"ts\",\"dogs\":\"gs\",\"hamsters\":\"rs\"})\n",
        "print(myCounter)"
      ],
      "execution_count": null,
      "outputs": [
        {
          "output_type": "stream",
          "text": [
            "Counter({'cats': 'tsca', 'hamsters': 'rshamste', 'dogs': 'gsdo'})\n"
          ],
          "name": "stdout"
        }
      ]
    },
    {
      "cell_type": "code",
      "metadata": {
        "colab": {
          "base_uri": "https://localhost:8080/"
        },
        "id": "Fq6fzjK972u6",
        "outputId": "551fa756-8a29-43c6-84f1-b01a4777721c"
      },
      "source": [
        "#Subtract\n",
        "from collections import Counter #Importing it from collections library\n",
        "myCounter = Counter(cats=5,dogs=10, hamsters=2)#Using the counter constructor with \"Intial Values and Keys\"\n",
        "myCounter2 = Counter(cats=2)\n",
        "myCounter.subtract(myCounter2)\n",
        "print(myCounter)"
      ],
      "execution_count": null,
      "outputs": [
        {
          "output_type": "stream",
          "text": [
            "Counter({'dogs': 10, 'cats': 3, 'hamsters': 2})\n"
          ],
          "name": "stdout"
        }
      ]
    }
  ]
}